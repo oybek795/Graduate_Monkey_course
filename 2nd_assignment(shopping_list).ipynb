{
 "cells": [
  {
   "cell_type": "code",
   "execution_count": 3,
   "metadata": {},
   "outputs": [
    {
     "name": "stdout",
     "output_type": "stream",
     "text": [
      "Let's do a shoppning list\n",
      "Meat&fish Beef\n",
      "How much? 3\n",
      "Grains&Bread Bread\n",
      "How many? 2\n",
      "Dairy&Eggs Eggs\n",
      "How many? 10\n",
      "So, you need to buy: \n",
      "\t3 kg of Beef, \n",
      "\t2 pieces of Bread, \n",
      "\t10 Eggs.\n"
     ]
    }
   ],
   "source": [
    "# Assignment_2\n",
    "print(\"Let's do a shoppning list\")\n",
    "print(\"Meat&fish\", end=' ')\n",
    "meat_fish = input()\n",
    "print(\"How much?\", end=' ')\n",
    "mass1 = input()\n",
    "print(\"Grains&Bread\", end=' ')\n",
    "grains_Bread = input()\n",
    "print(\"How many?\", end=' ')\n",
    "mass2 = input()\n",
    "print(\"Dairy&Eggs\", end=' ')\n",
    "dairy_Eggs = input()\n",
    "print(\"How many?\", end=' ')\n",
    "mass3 = input()\n",
    "\n",
    "print(f\"So, you need to buy: \\n\\t{mass1} kg of {meat_fish}, \\n\\t{mass2} pieces of {grains_Bread}, \\n\\t{mass3} {dairy_Eggs}.\")\n",
    "\n",
    "\n"
   ]
  }
 ],
 "metadata": {
  "kernelspec": {
   "display_name": "Python 3",
   "language": "python",
   "name": "python3"
  }
 },
 "nbformat": 4,
 "nbformat_minor": 4
}
