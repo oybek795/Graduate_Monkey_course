{
 "cells": [
  {
   "cell_type": "code",
   "execution_count": 8,
   "metadata": {},
   "outputs": [
    {
     "name": "stdout",
     "output_type": "stream",
     "text": [
      "\n",
      "        *******\n",
      "        *     \n",
      "        *******       \n",
      "              *\n",
      "        ******* \n",
      "\n"
     ]
    }
   ],
   "source": [
    "number_five= \"\"\"\n",
    "        *******\n",
    "        *     \n",
    "        *******       \n",
    "              *\n",
    "        ******* \n",
    "\"\"\"\n",
    "print(number_five) "
   ]
  },
  {
   "cell_type": "code",
   "execution_count": 14,
   "metadata": {},
   "outputs": [
    {
     "name": "stdout",
     "output_type": "stream",
     "text": [
      "Enter your age to find out your birth year: 27\n",
      "1994\n"
     ]
    }
   ],
   "source": [
    "def bd(value):\n",
    "     a = (2021 - value)\n",
    "     print(a)\n",
    "\n",
    "val = int(input(\"Enter your age to find out your birth year: \"))\n",
    "bd(val)"
   ]
  },
  {
   "cell_type": "code",
   "execution_count": 8,
   "metadata": {},
   "outputs": [
    {
     "name": "stdout",
     "output_type": "stream",
     "text": [
      "revetahw\n"
     ]
    }
   ],
   "source": [
    " def reverses(word):\n",
    "     print(word[::-1])\n",
    "          \n",
    "reverses('whatever')"
   ]
  },
  {
   "cell_type": "code",
   "execution_count": null,
   "metadata": {},
   "outputs": [],
   "source": [
    "def blas(*blas):\n",
    "    bla1, bla2, bla3 = blas\n",
    "    print(f\"arg1: {bla1}, arg2: {bla2}, arg3: {bla3}\")"
   ]
  },
  {
   "cell_type": "code",
   "execution_count": 10,
   "metadata": {},
   "outputs": [
    {
     "name": "stdout",
     "output_type": "stream",
     "text": [
      "30\n"
     ]
    }
   ],
   "source": [
    "def adder(a,b,c):\n",
    "    d = a+b+c\n",
    "    print(d)\n",
    "adder(5,10,15)"
   ]
  },
  {
   "cell_type": "code",
   "execution_count": 35,
   "metadata": {},
   "outputs": [
    {
     "name": "stdout",
     "output_type": "stream",
     "text": [
      "0.0\n"
     ]
    }
   ],
   "source": [
    "def calvin_to_celsius(c):\n",
    "    c=(c+273.15)\n",
    "    print(c)\n",
    "calvin_to_celsius(-273.15)\n",
    "    "
   ]
  },
  {
   "cell_type": "code",
   "execution_count": 36,
   "metadata": {},
   "outputs": [
    {
     "name": "stdout",
     "output_type": "stream",
     "text": [
      "-273.15\n"
     ]
    }
   ],
   "source": [
    "def celsius_to_calvin(c):\n",
    "    c=(c-273.15)\n",
    "    print(c)\n",
    "celsius_to_calvin(0)"
   ]
  },
  {
   "cell_type": "code",
   "execution_count": 12,
   "metadata": {},
   "outputs": [
    {
     "name": "stdout",
     "output_type": "stream",
     "text": [
      "0.2\n"
     ]
    }
   ],
   "source": [
    "def find_share(a,b):\n",
    "    c=a/b\n",
    "    print(c)\n",
    "find_share(2,10)"
   ]
  },
  {
   "cell_type": "code",
   "execution_count": 13,
   "metadata": {},
   "outputs": [
    {
     "name": "stdout",
     "output_type": "stream",
     "text": [
      "Enter time now to find out how many hours left to go home: 17\n",
      "1\n"
     ]
    }
   ],
   "source": [
    "def hours_left(value):\n",
    "     a = (18 - value)\n",
    "     print(a)\n",
    "\n",
    "val = int(input(\"Enter time now to find out how many hours left to go home: \"))\n",
    "hours_left(val)"
   ]
  },
  {
   "cell_type": "code",
   "execution_count": 17,
   "metadata": {},
   "outputs": [
    {
     "name": "stdout",
     "output_type": "stream",
     "text": [
      "We should not take outsource.\n",
      "Me can get them with outsource.\n",
      "Alright, let's help to the outsource.\n"
     ]
    }
   ],
   "source": [
    "projects = 30\n",
    "the_stuff = 40\n",
    "outsource = 15\n",
    "\n",
    "if projects > the_stuff:\n",
    "    print(\"We should take outsource.\")\n",
    "\n",
    "elif projects < the_stuff:\n",
    "    print(\"We should not take outsource.\")\n",
    "else:\n",
    "    print(\"We can't decide.\")\n",
    "\n",
    "if projects > the_stuff+outsource:\n",
    "    print(\"There ara too many projects.\")\n",
    "elif projects < the_stuff+outsource:\n",
    "    print(\"Me can get them with outsource.\")\n",
    "else:\n",
    "    print(\"We still can't decide.\")\n",
    "\n",
    "if projects > outsource:\n",
    "    print(\"Alright, let's help to the outsource.\")\n",
    "else:\n",
    "    print(\"Outsource can handle all the projects.\")"
   ]
  },
  {
   "cell_type": "code",
   "execution_count": null,
   "metadata": {},
   "outputs": [],
   "source": []
  }
 ],
 "metadata": {
  "kernelspec": {
   "display_name": "Python 3",
   "language": "python",
   "name": "python3"
  },
  "language_info": {
   "codemirror_mode": {
    "name": "ipython",
    "version": 3
   },
   "file_extension": ".py",
   "mimetype": "text/x-python",
   "name": "python",
   "nbconvert_exporter": "python",
   "pygments_lexer": "ipython3",
   "version": "3.8.5"
  }
 },
 "nbformat": 4,
 "nbformat_minor": 4
}
