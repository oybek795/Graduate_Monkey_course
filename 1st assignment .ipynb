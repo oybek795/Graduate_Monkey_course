{
 "cells": [
  {
   "cell_type": "code",
   "execution_count": 1,
   "metadata": {},
   "outputs": [
    {
     "name": "stdout",
     "output_type": "stream",
     "text": [
      "Project was launched in 2019.\n",
      "There have gone 2 years of construction works on the plant.\n",
      "Till now 9.6 mln.$ were spent, and there still 1.200000000000001 to be spend.\n",
      "Now the project is in explotation phase, and finishing is expected by 2022 year.\n"
     ]
    }
   ],
   "source": [
    "project_starts = 2019\n",
    "project_ends = 2022\n",
    "project_budget = 10.8\n",
    "project_current_phase = \"explotation\"\n",
    "current_year = 2021\n",
    "current_costs = 9.6\n",
    "\n",
    "print(f\"Project was launched in {project_starts}.\")\n",
    "print(f\"There have gone {current_year-project_starts} years of construction works on the plant.\")\n",
    "print(f\"Till now {current_costs} mln.$ were spent, and there still {project_budget-current_costs} to be spend.\")\n",
    "print(f\"Now the project is in {project_current_phase} phase, and finishing is expected by {project_ends} year.\")"
   ]
  },
  {
   "cell_type": "code",
   "execution_count": 2,
   "metadata": {},
   "outputs": [
    {
     "name": "stdout",
     "output_type": "stream",
     "text": [
      "There are 71 candidates in total.\n",
      "Only around 48 of them will remain after Week 4.\n",
      "So the number of dropouts by Week 4 could be 23 or more\n",
      "Top 10 most active participants will win prizes.\n",
      "Each project group will consist of 3 participants.\n",
      "There will be approximately 16.0 on this course.\n",
      "The maximum possible score is 600 on this course.\n"
     ]
    }
   ],
   "source": [
    "candidates = 71\n",
    "available_places = 48\n",
    "dropouts = candidates-available_places\n",
    "prize_winners = 10\n",
    "project_group_size = 3 \n",
    "project_groups = available_places/project_group_size\n",
    "sessions = 12\n",
    "tokens_per_session = 50\n",
    "maximum_score_possible = sessions * tokens_per_session\n",
    "\n",
    "print(\"There are\", candidates, \"candidates in total.\" )\n",
    "print(\"Only around\", available_places, \"of them will remain after Week 4.\")\n",
    "print(\"So the number of dropouts by Week 4 could be\", dropouts, \"or more\")\n",
    "print(\"Top\", prize_winners, \"most active participants will win prizes.\")\n",
    "print(\"Each project group will consist of\", project_group_size, \"participants.\")\n",
    "print(\"There will be approximately\",project_groups, \"on this course.\")\n",
    "print(\"The maximum possible score is\", maximum_score_possible, \"on this course.\")"
   ]
  },
  {
   "cell_type": "code",
   "execution_count": null,
   "metadata": {},
   "outputs": [],
   "source": []
  }
 ],
 "metadata": {
  "kernelspec": {
   "display_name": "Python 3",
   "language": "python",
   "name": "python3"
  },
  "language_info": {
   "codemirror_mode": {
    "name": "ipython",
    "version": 3
   },
   "file_extension": ".py",
   "mimetype": "text/x-python",
   "name": "python",
   "nbconvert_exporter": "python",
   "pygments_lexer": "ipython3",
   "version": "3.8.5"
  }
 },
 "nbformat": 4,
 "nbformat_minor": 4
}
